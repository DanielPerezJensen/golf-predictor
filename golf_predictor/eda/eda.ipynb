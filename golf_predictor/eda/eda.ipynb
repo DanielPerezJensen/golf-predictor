{
 "cells": [
  {
   "cell_type": "code",
   "execution_count": 20,
   "metadata": {},
   "outputs": [
    {
     "name": "stdout",
     "output_type": "stream",
     "text": [
      "shape: (5, 34)\n",
      "┌─────────────────┬───────────────┬───────────┬──────────┬───┬────────┬────────┬────────┬──────────┐\n",
      "│ Player_initial_ ┆ tournament id ┆ player id ┆ hole_par ┆ … ┆ sg_app ┆ sg_ott ┆ sg_t2g ┆ sg_total │\n",
      "│ last            ┆ ---           ┆ ---       ┆ ---      ┆   ┆ ---    ┆ ---    ┆ ---    ┆ ---      │\n",
      "│ ---             ┆ i64           ┆ i64       ┆ i64      ┆   ┆ str    ┆ str    ┆ str    ┆ str      │\n",
      "│ str             ┆               ┆           ┆          ┆   ┆        ┆        ┆        ┆          │\n",
      "╞═════════════════╪═══════════════╪═══════════╪══════════╪═══╪════════╪════════╪════════╪══════════╡\n",
      "│ A. Ancer        ┆ 401353224     ┆ 9261      ┆ 288      ┆ … ┆ -0.08  ┆ 0.86   ┆ 0.65   ┆ 0.85     │\n",
      "│ A. Hadwin       ┆ 401353224     ┆ 5548      ┆ 288      ┆ … ┆ 0.31   ┆ 0.18   ┆ 1.24   ┆ 1.6      │\n",
      "│ A. Lahiri       ┆ 401353224     ┆ 4989      ┆ 144      ┆ … ┆ -1.09  ┆ 0.37   ┆ 0.02   ┆ -0.54    │\n",
      "│ A. Long         ┆ 401353224     ┆ 6015      ┆ 144      ┆ … ┆ -0.02  ┆ 0.8    ┆ -1.08  ┆ -2.54    │\n",
      "│ A. Noren        ┆ 401353224     ┆ 3832      ┆ 144      ┆ … ┆ -1.39  ┆ 0.19   ┆ -1.56  ┆ -1.04    │\n",
      "└─────────────────┴───────────────┴───────────┴──────────┴───┴────────┴────────┴────────┴──────────┘\n"
     ]
    }
   ],
   "source": [
    "# Read in data/pga_raw_data.csv using polars\n",
    "# import globals\n",
    "import polars\n",
    "import os\n",
    "from golf_predictor import globals\n",
    "\n",
    "# Read in the data\n",
    "df = polars.read_csv(\n",
    "    os.path.join(globals.DATA_PATH, \"pga_raw_data.csv\"),\n",
    "    schema_overrides={\"purse\": polars.Float64},\n",
    ")\n",
    "\n",
    "df = df.drop(\"Unnamed: 2\", \"Unnamed: 3\", \"Unnamed: 4\")\n",
    "\n",
    "# Print the first 5 rows\n",
    "print(df.head())"
   ]
  },
  {
   "cell_type": "code",
   "execution_count": 21,
   "metadata": {},
   "outputs": [
    {
     "data": {
      "text/html": [
       "<div><style>\n",
       ".dataframe > thead > tr,\n",
       ".dataframe > tbody > tr {\n",
       "  text-align: right;\n",
       "  white-space: pre-wrap;\n",
       "}\n",
       "</style>\n",
       "<small>shape: (9, 35)</small><table border=\"1\" class=\"dataframe\"><thead><tr><th>statistic</th><th>Player_initial_last</th><th>tournament id</th><th>player id</th><th>hole_par</th><th>strokes</th><th>hole_DKP</th><th>hole_FDP</th><th>hole_SDP</th><th>streak_DKP</th><th>streak_FDP</th><th>streak_SDP</th><th>n_rounds</th><th>made_cut</th><th>pos</th><th>finish_DKP</th><th>finish_FDP</th><th>finish_SDP</th><th>total_DKP</th><th>total_FDP</th><th>total_SDP</th><th>player</th><th>tournament name</th><th>course</th><th>date</th><th>purse</th><th>season</th><th>no_cut</th><th>Finish</th><th>sg_putt</th><th>sg_arg</th><th>sg_app</th><th>sg_ott</th><th>sg_t2g</th><th>sg_total</th></tr><tr><td>str</td><td>str</td><td>f64</td><td>f64</td><td>f64</td><td>f64</td><td>f64</td><td>f64</td><td>f64</td><td>f64</td><td>f64</td><td>f64</td><td>f64</td><td>f64</td><td>str</td><td>f64</td><td>f64</td><td>f64</td><td>f64</td><td>f64</td><td>f64</td><td>str</td><td>str</td><td>str</td><td>str</td><td>f64</td><td>f64</td><td>f64</td><td>str</td><td>str</td><td>str</td><td>str</td><td>str</td><td>str</td><td>str</td></tr></thead><tbody><tr><td>&quot;count&quot;</td><td>&quot;36864&quot;</td><td>36864.0</td><td>36864.0</td><td>36864.0</td><td>36864.0</td><td>36864.0</td><td>36864.0</td><td>36864.0</td><td>36864.0</td><td>36864.0</td><td>36864.0</td><td>36864.0</td><td>36864.0</td><td>&quot;36864&quot;</td><td>36864.0</td><td>36864.0</td><td>36864.0</td><td>36864.0</td><td>36864.0</td><td>36864.0</td><td>&quot;36864&quot;</td><td>&quot;36864&quot;</td><td>&quot;36864&quot;</td><td>&quot;36864&quot;</td><td>36864.0</td><td>36864.0</td><td>36864.0</td><td>&quot;36864&quot;</td><td>&quot;36864&quot;</td><td>&quot;36864&quot;</td><td>&quot;36864&quot;</td><td>&quot;36864&quot;</td><td>&quot;36864&quot;</td><td>&quot;36864&quot;</td></tr><tr><td>&quot;null_count&quot;</td><td>&quot;0&quot;</td><td>0.0</td><td>0.0</td><td>0.0</td><td>0.0</td><td>0.0</td><td>0.0</td><td>0.0</td><td>0.0</td><td>0.0</td><td>0.0</td><td>0.0</td><td>0.0</td><td>&quot;0&quot;</td><td>0.0</td><td>0.0</td><td>0.0</td><td>0.0</td><td>0.0</td><td>0.0</td><td>&quot;0&quot;</td><td>&quot;0&quot;</td><td>&quot;0&quot;</td><td>&quot;0&quot;</td><td>0.0</td><td>0.0</td><td>0.0</td><td>&quot;0&quot;</td><td>&quot;0&quot;</td><td>&quot;0&quot;</td><td>&quot;0&quot;</td><td>&quot;0&quot;</td><td>&quot;0&quot;</td><td>&quot;0&quot;</td></tr><tr><td>&quot;mean&quot;</td><td>null</td><td>2.3318e8</td><td>79790.407145</td><td>225.547065</td><td>224.114502</td><td>50.130249</td><td>44.375789</td><td>49.323703</td><td>1.764052</td><td>7.686844</td><td>1.683485</td><td>3.175266</td><td>0.605903</td><td>null</td><td>2.488959</td><td>2.134169</td><td>1.170573</td><td>54.38326</td><td>54.196802</td><td>52.177762</td><td>null</td><td>null</td><td>null</td><td>null</td><td>7.529612</td><td>2018.539686</td><td>0.065294</td><td>null</td><td>null</td><td>null</td><td>null</td><td>null</td><td>null</td><td>null</td></tr><tr><td>&quot;std&quot;</td><td>null</td><td>1.9792e8</td><td>575381.592148</td><td>70.29559</td><td>66.789007</td><td>24.025854</td><td>24.153313</td><td>22.202915</td><td>2.846552</td><td>7.252924</td><td>2.668202</td><td>0.983446</td><td>0.488663</td><td>null</td><td>4.841041</td><td>4.787292</td><td>2.897612</td><td>28.907092</td><td>33.411485</td><td>25.313295</td><td>null</td><td>null</td><td>null</td><td>null</td><td>2.192712</td><td>2.21305</td><td>0.247047</td><td>null</td><td>null</td><td>null</td><td>null</td><td>null</td><td>null</td><td>null</td></tr><tr><td>&quot;min&quot;</td><td>&quot;A. Albertson&quot;</td><td>2230.0</td><td>5.0</td><td>70.0</td><td>66.0</td><td>-2.5</td><td>-21.4</td><td>-11.0</td><td>0.0</td><td>0.0</td><td>0.0</td><td>1.0</td><td>0.0</td><td>&quot;1&quot;</td><td>0.0</td><td>0.0</td><td>0.0</td><td>-2.5</td><td>-21.4</td><td>-11.0</td><td>&quot;Aaron Baddeley&quot;</td><td>&quot;3M Open&quot;</td><td>&quot;Accordia Golf Narashino CC - C…</td><td>&quot;2014-10-12&quot;</td><td>3.0</td><td>2015.0</td><td>0.0</td><td>&quot;1&quot;</td><td>&quot;-0.01&quot;</td><td>&quot;-0.01&quot;</td><td>&quot;-0.01&quot;</td><td>&quot;-0.01&quot;</td><td>&quot;-0.01&quot;</td><td>&quot;-0.01&quot;</td></tr><tr><td>&quot;25%&quot;</td><td>null</td><td>2696.0</td><td>1170.0</td><td>143.0</td><td>146.0</td><td>27.0</td><td>22.6</td><td>28.0</td><td>0.0</td><td>0.8</td><td>0.0</td><td>2.0</td><td>0.0</td><td>null</td><td>0.0</td><td>0.0</td><td>0.0</td><td>27.5</td><td>24.7</td><td>28.0</td><td>null</td><td>null</td><td>null</td><td>null</td><td>6.4</td><td>2017.0</td><td>0.0</td><td>null</td><td>null</td><td>null</td><td>null</td><td>null</td><td>null</td><td>null</td></tr><tr><td>&quot;50%&quot;</td><td>null</td><td>4.01056503e8</td><td>3793.0</td><td>280.0</td><td>272.0</td><td>53.5</td><td>46.1</td><td>55.0</td><td>0.0</td><td>6.4</td><td>0.0</td><td>4.0</td><td>1.0</td><td>null</td><td>0.0</td><td>0.0</td><td>0.0</td><td>55.5</td><td>52.2</td><td>56.0</td><td>null</td><td>null</td><td>null</td><td>null</td><td>7.1</td><td>2019.0</td><td>0.0</td><td>null</td><td>null</td><td>null</td><td>null</td><td>null</td><td>null</td><td>null</td></tr><tr><td>&quot;75%&quot;</td><td>null</td><td>4.01219498e8</td><td>6151.0</td><td>286.0</td><td>281.0</td><td>69.0</td><td>64.0</td><td>69.0</td><td>3.0</td><td>12.4</td><td>3.0</td><td>4.0</td><td>1.0</td><td>null</td><td>3.0</td><td>2.0</td><td>0.0</td><td>75.0</td><td>78.5</td><td>72.0</td><td>null</td><td>null</td><td>null</td><td>null</td><td>8.7</td><td>2021.0</td><td>0.0</td><td>null</td><td>null</td><td>null</td><td>null</td><td>null</td><td>null</td><td>null</td></tr><tr><td>&quot;max&quot;</td><td>&quot;Z. Sucher&quot;</td><td>4.01366873e8</td><td>4.845309e6</td><td>292.0</td><td>325.0</td><td>174.0</td><td>134.7</td><td>107.0</td><td>23.0</td><td>43.6</td><td>22.0</td><td>4.0</td><td>1.0</td><td>&quot;NA&quot;</td><td>30.0</td><td>30.0</td><td>15.0</td><td>205.5</td><td>202.6</td><td>141.0</td><td>&quot;Zheng-kai Bai&quot;</td><td>&quot;Wyndham Championship&quot;</td><td>&quot;Winged Foot GC - Mamaroneck, N…</td><td>&quot;2022-06-05&quot;</td><td>20.0</td><td>2022.0</td><td>1.0</td><td>&quot;WD&quot;</td><td>&quot;NA&quot;</td><td>&quot;NA&quot;</td><td>&quot;NA&quot;</td><td>&quot;NA&quot;</td><td>&quot;NA&quot;</td><td>&quot;NA&quot;</td></tr></tbody></table></div>"
      ],
      "text/plain": [
       "shape: (9, 35)\n",
       "┌────────────┬──────────────┬──────────────┬─────────────┬───┬────────┬────────┬────────┬──────────┐\n",
       "│ statistic  ┆ Player_initi ┆ tournament   ┆ player id   ┆ … ┆ sg_app ┆ sg_ott ┆ sg_t2g ┆ sg_total │\n",
       "│ ---        ┆ al_last      ┆ id           ┆ ---         ┆   ┆ ---    ┆ ---    ┆ ---    ┆ ---      │\n",
       "│ str        ┆ ---          ┆ ---          ┆ f64         ┆   ┆ str    ┆ str    ┆ str    ┆ str      │\n",
       "│            ┆ str          ┆ f64          ┆             ┆   ┆        ┆        ┆        ┆          │\n",
       "╞════════════╪══════════════╪══════════════╪═════════════╪═══╪════════╪════════╪════════╪══════════╡\n",
       "│ count      ┆ 36864        ┆ 36864.0      ┆ 36864.0     ┆ … ┆ 36864  ┆ 36864  ┆ 36864  ┆ 36864    │\n",
       "│ null_count ┆ 0            ┆ 0.0          ┆ 0.0         ┆ … ┆ 0      ┆ 0      ┆ 0      ┆ 0        │\n",
       "│ mean       ┆ null         ┆ 2.3318e8     ┆ 79790.40714 ┆ … ┆ null   ┆ null   ┆ null   ┆ null     │\n",
       "│            ┆              ┆              ┆ 5           ┆   ┆        ┆        ┆        ┆          │\n",
       "│ std        ┆ null         ┆ 1.9792e8     ┆ 575381.5921 ┆ … ┆ null   ┆ null   ┆ null   ┆ null     │\n",
       "│            ┆              ┆              ┆ 48          ┆   ┆        ┆        ┆        ┆          │\n",
       "│ min        ┆ A. Albertson ┆ 2230.0       ┆ 5.0         ┆ … ┆ -0.01  ┆ -0.01  ┆ -0.01  ┆ -0.01    │\n",
       "│ 25%        ┆ null         ┆ 2696.0       ┆ 1170.0      ┆ … ┆ null   ┆ null   ┆ null   ┆ null     │\n",
       "│ 50%        ┆ null         ┆ 4.01056503e8 ┆ 3793.0      ┆ … ┆ null   ┆ null   ┆ null   ┆ null     │\n",
       "│ 75%        ┆ null         ┆ 4.01219498e8 ┆ 6151.0      ┆ … ┆ null   ┆ null   ┆ null   ┆ null     │\n",
       "│ max        ┆ Z. Sucher    ┆ 4.01366873e8 ┆ 4.845309e6  ┆ … ┆ NA     ┆ NA     ┆ NA     ┆ NA       │\n",
       "└────────────┴──────────────┴──────────────┴─────────────┴───┴────────┴────────┴────────┴──────────┘"
      ]
     },
     "execution_count": 21,
     "metadata": {},
     "output_type": "execute_result"
    }
   ],
   "source": [
    "df.describe()"
   ]
  },
  {
   "cell_type": "code",
   "execution_count": null,
   "metadata": {},
   "outputs": [],
   "source": []
  }
 ],
 "metadata": {
  "kernelspec": {
   "display_name": ".venv",
   "language": "python",
   "name": "python3"
  },
  "language_info": {
   "codemirror_mode": {
    "name": "ipython",
    "version": 3
   },
   "file_extension": ".py",
   "mimetype": "text/x-python",
   "name": "python",
   "nbconvert_exporter": "python",
   "pygments_lexer": "ipython3",
   "version": "3.12.6"
  }
 },
 "nbformat": 4,
 "nbformat_minor": 2
}
